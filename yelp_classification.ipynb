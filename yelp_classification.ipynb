{
 "cells": [
  {
   "cell_type": "code",
   "execution_count": 95,
   "metadata": {},
   "outputs": [],
   "source": [
    "import numpy as np\n",
    "import pandas as pd\n",
    "import cv2\n",
    "import seaborn as sns\n",
    "import matplotlib.pyplot as plt\n",
    "import matplotlib\n",
    "%matplotlib inline\n",
    "matplotlib.rcParams['figure.dpi']= 100\n",
    "matplotlib.rcParams['figure.figsize'] = 15, 5"
   ]
  },
  {
   "cell_type": "markdown",
   "metadata": {},
   "source": [
    "# Read data "
   ]
  },
  {
   "cell_type": "code",
   "execution_count": 81,
   "metadata": {},
   "outputs": [],
   "source": [
    "df_labels = pd.read_csv(\"dataset/train.csv\")\n",
    "df_photo_to_biz = pd.read_csv(\"dataset/train_photo_to_biz_ids.csv\")\n",
    "df = df_photo_to_biz.join(other=df_labels.set_index('business_id'), how='left', on='business_id').drop(columns=\"business_id\")"
   ]
  },
  {
   "cell_type": "code",
   "execution_count": 82,
   "metadata": {},
   "outputs": [
    {
     "data": {
      "text/html": [
       "<div>\n",
       "<style scoped>\n",
       "    .dataframe tbody tr th:only-of-type {\n",
       "        vertical-align: middle;\n",
       "    }\n",
       "\n",
       "    .dataframe tbody tr th {\n",
       "        vertical-align: top;\n",
       "    }\n",
       "\n",
       "    .dataframe thead th {\n",
       "        text-align: right;\n",
       "    }\n",
       "</style>\n",
       "<table border=\"1\" class=\"dataframe\">\n",
       "  <thead>\n",
       "    <tr style=\"text-align: right;\">\n",
       "      <th></th>\n",
       "      <th>photo_id</th>\n",
       "      <th>labels</th>\n",
       "    </tr>\n",
       "  </thead>\n",
       "  <tbody>\n",
       "    <tr>\n",
       "      <td>0</td>\n",
       "      <td>204149</td>\n",
       "      <td>3 8</td>\n",
       "    </tr>\n",
       "    <tr>\n",
       "      <td>1</td>\n",
       "      <td>52779</td>\n",
       "      <td>1 2 3 5 6 7</td>\n",
       "    </tr>\n",
       "    <tr>\n",
       "      <td>2</td>\n",
       "      <td>278973</td>\n",
       "      <td>1 2 3 4 5 6 7</td>\n",
       "    </tr>\n",
       "    <tr>\n",
       "      <td>3</td>\n",
       "      <td>195284</td>\n",
       "      <td>1 2 3 4 5 6 7</td>\n",
       "    </tr>\n",
       "    <tr>\n",
       "      <td>4</td>\n",
       "      <td>19992</td>\n",
       "      <td>1 2 3 4 5 6 7</td>\n",
       "    </tr>\n",
       "    <tr>\n",
       "      <td>...</td>\n",
       "      <td>...</td>\n",
       "      <td>...</td>\n",
       "    </tr>\n",
       "    <tr>\n",
       "      <td>234837</td>\n",
       "      <td>325414</td>\n",
       "      <td>1 4 5 6 7</td>\n",
       "    </tr>\n",
       "    <tr>\n",
       "      <td>234838</td>\n",
       "      <td>301030</td>\n",
       "      <td>1 2 5 6</td>\n",
       "    </tr>\n",
       "    <tr>\n",
       "      <td>234839</td>\n",
       "      <td>355839</td>\n",
       "      <td>1 2 5 6 7 8</td>\n",
       "    </tr>\n",
       "    <tr>\n",
       "      <td>234840</td>\n",
       "      <td>20474</td>\n",
       "      <td>0 1 2 3 5 6 7 8</td>\n",
       "    </tr>\n",
       "    <tr>\n",
       "      <td>234841</td>\n",
       "      <td>263884</td>\n",
       "      <td>0 1 2 3 5 6 7 8</td>\n",
       "    </tr>\n",
       "  </tbody>\n",
       "</table>\n",
       "<p>234842 rows × 2 columns</p>\n",
       "</div>"
      ],
      "text/plain": [
       "        photo_id           labels\n",
       "0         204149              3 8\n",
       "1          52779      1 2 3 5 6 7\n",
       "2         278973    1 2 3 4 5 6 7\n",
       "3         195284    1 2 3 4 5 6 7\n",
       "4          19992    1 2 3 4 5 6 7\n",
       "...          ...              ...\n",
       "234837    325414        1 4 5 6 7\n",
       "234838    301030          1 2 5 6\n",
       "234839    355839      1 2 5 6 7 8\n",
       "234840     20474  0 1 2 3 5 6 7 8\n",
       "234841    263884  0 1 2 3 5 6 7 8\n",
       "\n",
       "[234842 rows x 2 columns]"
      ]
     },
     "execution_count": 82,
     "metadata": {},
     "output_type": "execute_result"
    }
   ],
   "source": [
    "df"
   ]
  },
  {
   "cell_type": "code",
   "execution_count": 83,
   "metadata": {},
   "outputs": [
    {
     "name": "stdout",
     "output_type": "stream",
     "text": [
      "297\n"
     ]
    }
   ],
   "source": [
    "print(df.isnull().sum().sum())"
   ]
  },
  {
   "cell_type": "code",
   "execution_count": 84,
   "metadata": {},
   "outputs": [],
   "source": [
    "df.dropna(inplace=True)\n",
    "df.reset_index(drop=True, inplace=True)"
   ]
  },
  {
   "cell_type": "code",
   "execution_count": 85,
   "metadata": {},
   "outputs": [
    {
     "data": {
      "text/html": [
       "<div>\n",
       "<style scoped>\n",
       "    .dataframe tbody tr th:only-of-type {\n",
       "        vertical-align: middle;\n",
       "    }\n",
       "\n",
       "    .dataframe tbody tr th {\n",
       "        vertical-align: top;\n",
       "    }\n",
       "\n",
       "    .dataframe thead th {\n",
       "        text-align: right;\n",
       "    }\n",
       "</style>\n",
       "<table border=\"1\" class=\"dataframe\">\n",
       "  <thead>\n",
       "    <tr style=\"text-align: right;\">\n",
       "      <th></th>\n",
       "      <th>photo_id</th>\n",
       "      <th>labels</th>\n",
       "    </tr>\n",
       "  </thead>\n",
       "  <tbody>\n",
       "    <tr>\n",
       "      <td>0</td>\n",
       "      <td>204149</td>\n",
       "      <td>3 8</td>\n",
       "    </tr>\n",
       "    <tr>\n",
       "      <td>1</td>\n",
       "      <td>52779</td>\n",
       "      <td>1 2 3 5 6 7</td>\n",
       "    </tr>\n",
       "    <tr>\n",
       "      <td>2</td>\n",
       "      <td>278973</td>\n",
       "      <td>1 2 3 4 5 6 7</td>\n",
       "    </tr>\n",
       "    <tr>\n",
       "      <td>3</td>\n",
       "      <td>195284</td>\n",
       "      <td>1 2 3 4 5 6 7</td>\n",
       "    </tr>\n",
       "    <tr>\n",
       "      <td>4</td>\n",
       "      <td>19992</td>\n",
       "      <td>1 2 3 4 5 6 7</td>\n",
       "    </tr>\n",
       "    <tr>\n",
       "      <td>...</td>\n",
       "      <td>...</td>\n",
       "      <td>...</td>\n",
       "    </tr>\n",
       "    <tr>\n",
       "      <td>234540</td>\n",
       "      <td>325414</td>\n",
       "      <td>1 4 5 6 7</td>\n",
       "    </tr>\n",
       "    <tr>\n",
       "      <td>234541</td>\n",
       "      <td>301030</td>\n",
       "      <td>1 2 5 6</td>\n",
       "    </tr>\n",
       "    <tr>\n",
       "      <td>234542</td>\n",
       "      <td>355839</td>\n",
       "      <td>1 2 5 6 7 8</td>\n",
       "    </tr>\n",
       "    <tr>\n",
       "      <td>234543</td>\n",
       "      <td>20474</td>\n",
       "      <td>0 1 2 3 5 6 7 8</td>\n",
       "    </tr>\n",
       "    <tr>\n",
       "      <td>234544</td>\n",
       "      <td>263884</td>\n",
       "      <td>0 1 2 3 5 6 7 8</td>\n",
       "    </tr>\n",
       "  </tbody>\n",
       "</table>\n",
       "<p>234545 rows × 2 columns</p>\n",
       "</div>"
      ],
      "text/plain": [
       "        photo_id           labels\n",
       "0         204149              3 8\n",
       "1          52779      1 2 3 5 6 7\n",
       "2         278973    1 2 3 4 5 6 7\n",
       "3         195284    1 2 3 4 5 6 7\n",
       "4          19992    1 2 3 4 5 6 7\n",
       "...          ...              ...\n",
       "234540    325414        1 4 5 6 7\n",
       "234541    301030          1 2 5 6\n",
       "234542    355839      1 2 5 6 7 8\n",
       "234543     20474  0 1 2 3 5 6 7 8\n",
       "234544    263884  0 1 2 3 5 6 7 8\n",
       "\n",
       "[234545 rows x 2 columns]"
      ]
     },
     "execution_count": 85,
     "metadata": {},
     "output_type": "execute_result"
    }
   ],
   "source": [
    "df"
   ]
  },
  {
   "cell_type": "markdown",
   "metadata": {},
   "source": [
    "Business attributes, that corresponds to labels:\n",
    "\n",
    "0: good_for_lunch\n",
    "\n",
    "1: good_for_dinner\n",
    "\n",
    "2: takes_reservations\n",
    "\n",
    "3: outdoor_seating\n",
    "\n",
    "4: restaurant_is_expensive\n",
    "\n",
    "5: has_alcohol\n",
    "\n",
    "6: has_table_service\n",
    "\n",
    "7: ambience_is_classy\n",
    "\n",
    "8: good_for_kids\n"
   ]
  },
  {
   "cell_type": "code",
   "execution_count": 86,
   "metadata": {},
   "outputs": [],
   "source": [
    "labels_str = [\n",
    "    \"good for lunch\", \"good for dinner\", \"takes reservations\",\n",
    "    \"outdoor seating\", \"restaurant is expensive\", \"has alcohol\",\n",
    "    \"has table service\", \"ambience is classy\", \"good for kids\"\n",
    "]"
   ]
  },
  {
   "cell_type": "code",
   "execution_count": 87,
   "metadata": {},
   "outputs": [],
   "source": [
    "LABELS_NUM = 9"
   ]
  },
  {
   "cell_type": "code",
   "execution_count": 88,
   "metadata": {},
   "outputs": [
    {
     "data": {
      "text/html": [
       "<div>\n",
       "<style scoped>\n",
       "    .dataframe tbody tr th:only-of-type {\n",
       "        vertical-align: middle;\n",
       "    }\n",
       "\n",
       "    .dataframe tbody tr th {\n",
       "        vertical-align: top;\n",
       "    }\n",
       "\n",
       "    .dataframe thead th {\n",
       "        text-align: right;\n",
       "    }\n",
       "</style>\n",
       "<table border=\"1\" class=\"dataframe\">\n",
       "  <thead>\n",
       "    <tr style=\"text-align: right;\">\n",
       "      <th></th>\n",
       "      <th>photo_id</th>\n",
       "      <th>0</th>\n",
       "      <th>1</th>\n",
       "      <th>2</th>\n",
       "      <th>3</th>\n",
       "      <th>4</th>\n",
       "      <th>5</th>\n",
       "      <th>6</th>\n",
       "      <th>7</th>\n",
       "      <th>8</th>\n",
       "    </tr>\n",
       "  </thead>\n",
       "  <tbody>\n",
       "    <tr>\n",
       "      <td>0</td>\n",
       "      <td>204149</td>\n",
       "      <td>0.0</td>\n",
       "      <td>0.0</td>\n",
       "      <td>0.0</td>\n",
       "      <td>1.0</td>\n",
       "      <td>0.0</td>\n",
       "      <td>0.0</td>\n",
       "      <td>0.0</td>\n",
       "      <td>0.0</td>\n",
       "      <td>1.0</td>\n",
       "    </tr>\n",
       "    <tr>\n",
       "      <td>1</td>\n",
       "      <td>52779</td>\n",
       "      <td>0.0</td>\n",
       "      <td>1.0</td>\n",
       "      <td>1.0</td>\n",
       "      <td>1.0</td>\n",
       "      <td>0.0</td>\n",
       "      <td>1.0</td>\n",
       "      <td>1.0</td>\n",
       "      <td>1.0</td>\n",
       "      <td>0.0</td>\n",
       "    </tr>\n",
       "    <tr>\n",
       "      <td>2</td>\n",
       "      <td>278973</td>\n",
       "      <td>0.0</td>\n",
       "      <td>1.0</td>\n",
       "      <td>1.0</td>\n",
       "      <td>1.0</td>\n",
       "      <td>1.0</td>\n",
       "      <td>1.0</td>\n",
       "      <td>1.0</td>\n",
       "      <td>1.0</td>\n",
       "      <td>0.0</td>\n",
       "    </tr>\n",
       "    <tr>\n",
       "      <td>3</td>\n",
       "      <td>195284</td>\n",
       "      <td>0.0</td>\n",
       "      <td>1.0</td>\n",
       "      <td>1.0</td>\n",
       "      <td>1.0</td>\n",
       "      <td>1.0</td>\n",
       "      <td>1.0</td>\n",
       "      <td>1.0</td>\n",
       "      <td>1.0</td>\n",
       "      <td>0.0</td>\n",
       "    </tr>\n",
       "    <tr>\n",
       "      <td>4</td>\n",
       "      <td>19992</td>\n",
       "      <td>0.0</td>\n",
       "      <td>1.0</td>\n",
       "      <td>1.0</td>\n",
       "      <td>1.0</td>\n",
       "      <td>1.0</td>\n",
       "      <td>1.0</td>\n",
       "      <td>1.0</td>\n",
       "      <td>1.0</td>\n",
       "      <td>0.0</td>\n",
       "    </tr>\n",
       "    <tr>\n",
       "      <td>...</td>\n",
       "      <td>...</td>\n",
       "      <td>...</td>\n",
       "      <td>...</td>\n",
       "      <td>...</td>\n",
       "      <td>...</td>\n",
       "      <td>...</td>\n",
       "      <td>...</td>\n",
       "      <td>...</td>\n",
       "      <td>...</td>\n",
       "      <td>...</td>\n",
       "    </tr>\n",
       "    <tr>\n",
       "      <td>234540</td>\n",
       "      <td>325414</td>\n",
       "      <td>0.0</td>\n",
       "      <td>1.0</td>\n",
       "      <td>0.0</td>\n",
       "      <td>0.0</td>\n",
       "      <td>1.0</td>\n",
       "      <td>1.0</td>\n",
       "      <td>1.0</td>\n",
       "      <td>1.0</td>\n",
       "      <td>0.0</td>\n",
       "    </tr>\n",
       "    <tr>\n",
       "      <td>234541</td>\n",
       "      <td>301030</td>\n",
       "      <td>0.0</td>\n",
       "      <td>1.0</td>\n",
       "      <td>1.0</td>\n",
       "      <td>0.0</td>\n",
       "      <td>0.0</td>\n",
       "      <td>1.0</td>\n",
       "      <td>1.0</td>\n",
       "      <td>0.0</td>\n",
       "      <td>0.0</td>\n",
       "    </tr>\n",
       "    <tr>\n",
       "      <td>234542</td>\n",
       "      <td>355839</td>\n",
       "      <td>0.0</td>\n",
       "      <td>1.0</td>\n",
       "      <td>1.0</td>\n",
       "      <td>0.0</td>\n",
       "      <td>0.0</td>\n",
       "      <td>1.0</td>\n",
       "      <td>1.0</td>\n",
       "      <td>1.0</td>\n",
       "      <td>1.0</td>\n",
       "    </tr>\n",
       "    <tr>\n",
       "      <td>234543</td>\n",
       "      <td>20474</td>\n",
       "      <td>1.0</td>\n",
       "      <td>1.0</td>\n",
       "      <td>1.0</td>\n",
       "      <td>1.0</td>\n",
       "      <td>0.0</td>\n",
       "      <td>1.0</td>\n",
       "      <td>1.0</td>\n",
       "      <td>1.0</td>\n",
       "      <td>1.0</td>\n",
       "    </tr>\n",
       "    <tr>\n",
       "      <td>234544</td>\n",
       "      <td>263884</td>\n",
       "      <td>1.0</td>\n",
       "      <td>1.0</td>\n",
       "      <td>1.0</td>\n",
       "      <td>1.0</td>\n",
       "      <td>0.0</td>\n",
       "      <td>1.0</td>\n",
       "      <td>1.0</td>\n",
       "      <td>1.0</td>\n",
       "      <td>1.0</td>\n",
       "    </tr>\n",
       "  </tbody>\n",
       "</table>\n",
       "<p>234545 rows × 10 columns</p>\n",
       "</div>"
      ],
      "text/plain": [
       "        photo_id    0    1    2    3    4    5    6    7    8\n",
       "0         204149  0.0  0.0  0.0  1.0  0.0  0.0  0.0  0.0  1.0\n",
       "1          52779  0.0  1.0  1.0  1.0  0.0  1.0  1.0  1.0  0.0\n",
       "2         278973  0.0  1.0  1.0  1.0  1.0  1.0  1.0  1.0  0.0\n",
       "3         195284  0.0  1.0  1.0  1.0  1.0  1.0  1.0  1.0  0.0\n",
       "4          19992  0.0  1.0  1.0  1.0  1.0  1.0  1.0  1.0  0.0\n",
       "...          ...  ...  ...  ...  ...  ...  ...  ...  ...  ...\n",
       "234540    325414  0.0  1.0  0.0  0.0  1.0  1.0  1.0  1.0  0.0\n",
       "234541    301030  0.0  1.0  1.0  0.0  0.0  1.0  1.0  0.0  0.0\n",
       "234542    355839  0.0  1.0  1.0  0.0  0.0  1.0  1.0  1.0  1.0\n",
       "234543     20474  1.0  1.0  1.0  1.0  0.0  1.0  1.0  1.0  1.0\n",
       "234544    263884  1.0  1.0  1.0  1.0  0.0  1.0  1.0  1.0  1.0\n",
       "\n",
       "[234545 rows x 10 columns]"
      ]
     },
     "execution_count": 88,
     "metadata": {},
     "output_type": "execute_result"
    }
   ],
   "source": [
    "def encode_label(l):\n",
    "    res = np.zeros(LABELS_NUM)\n",
    "    for i in l:\n",
    "        res[i] = 1\n",
    "    return res\n",
    "\n",
    "train_L = np.vstack(df['labels'].apply(lambda x: tuple(sorted(int(t) for t in x.split()))).apply(encode_label))\n",
    "df = pd.concat([df, pd.DataFrame(train_L)], axis=1).drop(columns=[\"labels\"])\n",
    "df"
   ]
  },
  {
   "cell_type": "code",
   "execution_count": 89,
   "metadata": {},
   "outputs": [],
   "source": [
    "def show_image(opencv_image):\n",
    "    b,g,r = cv2.split(opencv_image)\n",
    "    rgb_image = cv2.merge([r,g,b])\n",
    "    plt.imshow(rgb_image)\n",
    "    plt.show()"
   ]
  },
  {
   "cell_type": "code",
   "execution_count": 90,
   "metadata": {},
   "outputs": [],
   "source": [
    "def get_img(img_id):\n",
    "    return cv2.imread(\"dataset/train_photos/\" + str(img_id) + \".jpg\")"
   ]
  },
  {
   "cell_type": "code",
   "execution_count": 91,
   "metadata": {},
   "outputs": [
    {
     "data": {
      "image/png": "[encoded data removed]",
      "text/plain": [
       "<Figure size 432x288 with 1 Axes>"
      ]
     },
     "metadata": {
      "needs_background": "light"
     },
     "output_type": "display_data"
    }
   ],
   "source": [
    "show_image(get_img(int(df.sample(1).photo_id)))"
   ]
  },
  {
   "cell_type": "markdown",
   "metadata": {},
   "source": [
    "# Data investigating"
   ]
  },
  {
   "cell_type": "markdown",
   "metadata": {},
   "source": [
    "## Class balance"
   ]
  },
  {
   "cell_type": "code",
   "execution_count": 103,
   "metadata": {},
   "outputs": [],
   "source": [
    "def show_classes_count(df):\n",
    "    labels = df.drop(columns=[\"photo_id\"])\n",
    "    labels_count = []\n",
    "    for i in range(LABELS_NUM):\n",
    "        labels_count.append(df[i].sum())\n",
    "    plt.bar(x=range(LABELS_NUM), height=labels_count, tick_label=labels_str)"
   ]
  },
  {
   "cell_type": "code",
   "execution_count": 153,
   "metadata": {},
   "outputs": [
    {
     "data": {
      "image/png": "[encoded data removed]",
      "text/plain": [
       "<Figure size 1500x500 with 1 Axes>"
      ]
     },
     "metadata": {
      "needs_background": "light"
     },
     "output_type": "display_data"
    }
   ],
   "source": [
    "show_classes_count(df)"
   ]
  },
  {
   "cell_type": "markdown",
   "metadata": {},
   "source": [
    "Generally, it is hard task to balance classes in multi-label classification, but let's try to do it in easy way. First, let's use upsampling for good for lunch, as it has the smallest amount os samples"
   ]
  },
  {
   "cell_type": "code",
   "execution_count": 154,
   "metadata": {},
   "outputs": [
    {
     "data": {
      "image/png": "[encoded data removed]",
      "text/plain": [
       "<Figure size 1500x500 with 1 Axes>"
      ]
     },
     "metadata": {
      "needs_background": "light"
     },
     "output_type": "display_data"
    }
   ],
   "source": [
    "show_classes_count(df.append(df[df[0] == 1]))"
   ]
  },
  {
   "cell_type": "markdown",
   "metadata": {},
   "source": [
    "We can see, that it improved the situation, but we have much more samples from 5 and 6 labels comparing to 4 and 7. So let's use downsampling for 5 and 6 classes, but while removing samples take into account, that samples, that have 0, 4 and 7 classes don't remove"
   ]
  },
  {
   "cell_type": "code",
   "execution_count": 157,
   "metadata": {},
   "outputs": [
    {
     "data": {
      "image/png": "[encoded data removed]",
      "text/plain": [
       "<Figure size 1500x500 with 1 Axes>"
      ]
     },
     "metadata": {
      "needs_background": "light"
     },
     "output_type": "display_data"
    }
   ],
   "source": [
    "a = df[df[6] == 1]\n",
    "a = df[df[5] == 1].append(a[a[5] == 0])\n",
    "a = a[a[7] == 0]\n",
    "a = a[a[4] == 0]\n",
    "a = a[a[0] == 0]\n",
    "a = df.iloc[list(set(df.index) - set(a.index))]\n",
    "balanced_df = a.append(a[a[0] == 1])\n",
    "show_classes_count(balanced_df)"
   ]
  },
  {
   "cell_type": "markdown",
   "metadata": {},
   "source": [
    "For now, 7 classs could have more samples, but generally classes are much more balanced"
   ]
  },
  {
   "cell_type": "markdown",
   "metadata": {},
   "source": [
    "# Feature extraction"
   ]
  },
  {
   "cell_type": "markdown",
   "metadata": {},
   "source": [
    "## Inception"
   ]
  },
  {
   "cell_type": "code",
   "execution_count": 19,
   "metadata": {},
   "outputs": [],
   "source": [
    "from keras.applications import InceptionV3\n",
    "from keras.models import Model, Sequential\n",
    "from keras.layers import Dense"
   ]
  },
  {
   "cell_type": "code",
   "execution_count": 26,
   "metadata": {},
   "outputs": [],
   "source": [
    "def modify_model(original_model):\n",
    "    bottleneck_input = original_model.get_layer(index=0).input\n",
    "    bottleneck_output = original_model.get_layer(index=0).output\n",
    "    bottleneck_model = Model(inputs=bottleneck_input, outputs=bottleneck_output)\n",
    "\n",
    "    for layer in bottleneck_model.layers:\n",
    "        layer.trainable = False\n",
    "\n",
    "    new_model = Sequential()\n",
    "    new_model.add(bottleneck_model)\n",
    "    new_model.add(Dense(LABELS_NUM, activation='softmax', input_dim=2048))\n",
    "    new_model.compile(loss='categorical_crossentropy', optimizer='adam', metrics=['accuracy'])\n",
    "    return new_model"
   ]
  },
  {
   "cell_type": "code",
   "execution_count": 27,
   "metadata": {},
   "outputs": [],
   "source": [
    "model = modify_model(InceptionV3())"
   ]
  },
  {
   "cell_type": "code",
   "execution_count": null,
   "metadata": {},
   "outputs": [],
   "source": []
  }
 ],
 "metadata": {
  "kernelspec": {
   "display_name": "Python 3",
   "language": "python",
   "name": "python3"
  },
  "language_info": {
   "codemirror_mode": {
    "name": "ipython",
    "version": 3
   },
   "file_extension": ".py",
   "mimetype": "text/x-python",
   "name": "python",
   "nbconvert_exporter": "python",
   "pygments_lexer": "ipython3",
   "version": "3.7.3"
  },
  "toc": {
   "base_numbering": 1,
   "nav_menu": {},
   "number_sections": true,
   "sideBar": true,
   "skip_h1_title": false,
   "title_cell": "Table of Contents",
   "title_sidebar": "Contents",
   "toc_cell": false,
   "toc_position": {},
   "toc_section_display": true,
   "toc_window_display": false
  }
 },
 "nbformat": 4,
 "nbformat_minor": 2
}
