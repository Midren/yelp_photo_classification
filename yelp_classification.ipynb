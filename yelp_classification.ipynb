{
 "cells": [
  {
   "cell_type": "code",
   "execution_count": 29,
   "metadata": {},
   "outputs": [],
   "source": [
    "import numpy as np\n",
    "import pandas as pd\n",
    "import cv2\n",
    "import seaborn as sns\n",
    "import matplotlib.pyplot as plt\n",
    "import matplotlib\n",
    "import copy\n",
    "import warnings\n",
    "warnings.filterwarnings(\"ignore\")\n",
    "\n",
    "import tensorflow as tf\n",
    "from sklearn.model_selection import train_test_split"
   ]
  },
  {
   "cell_type": "code",
   "execution_count": 30,
   "metadata": {},
   "outputs": [],
   "source": [
    "%matplotlib inline\n",
    "matplotlib.rcParams['figure.dpi']= 100\n",
    "matplotlib.rcParams['figure.figsize'] = 15, 5"
   ]
  },
  {
   "cell_type": "markdown",
   "metadata": {},
   "source": [
    "# Read data "
   ]
  },
  {
   "cell_type": "code",
   "execution_count": 31,
   "metadata": {},
   "outputs": [],
   "source": [
    "df_labels = pd.read_csv(\"dataset/train.csv\")\n",
    "df_photo_to_biz = pd.read_csv(\"dataset/train_photo_to_biz_ids.csv\")\n",
    "df = df_photo_to_biz.join(other=df_labels.set_index('business_id'), how='left', on='business_id').drop(columns=\"business_id\")"
   ]
  },
  {
   "cell_type": "code",
   "execution_count": 32,
   "metadata": {},
   "outputs": [],
   "source": [
    "df_train = df_labels\n",
    "df_train[\"photos_id\"] = df_labels[\"business_id\"].apply(lambda x: \" \".join(map(str,df_photo_to_biz[df_photo_to_biz.business_id == x].photo_id.values)))"
   ]
  },
  {
   "cell_type": "code",
   "execution_count": 33,
   "metadata": {
    "scrolled": true
   },
   "outputs": [
    {
     "data": {
      "text/html": [
       "<div>\n",
       "<style scoped>\n",
       "    .dataframe tbody tr th:only-of-type {\n",
       "        vertical-align: middle;\n",
       "    }\n",
       "\n",
       "    .dataframe tbody tr th {\n",
       "        vertical-align: top;\n",
       "    }\n",
       "\n",
       "    .dataframe thead th {\n",
       "        text-align: right;\n",
       "    }\n",
       "</style>\n",
       "<table border=\"1\" class=\"dataframe\">\n",
       "  <thead>\n",
       "    <tr style=\"text-align: right;\">\n",
       "      <th></th>\n",
       "      <th>business_id</th>\n",
       "      <th>labels</th>\n",
       "      <th>photos_id</th>\n",
       "    </tr>\n",
       "  </thead>\n",
       "  <tbody>\n",
       "    <tr>\n",
       "      <td>0</td>\n",
       "      <td>1000</td>\n",
       "      <td>1 2 3 4 5 6 7</td>\n",
       "      <td>438623 325966 227692 407856 368729 163193 2878...</td>\n",
       "    </tr>\n",
       "    <tr>\n",
       "      <td>1</td>\n",
       "      <td>1001</td>\n",
       "      <td>0 1 6 8</td>\n",
       "      <td>298536 20346 8457 308694 349310 407838 280304 ...</td>\n",
       "    </tr>\n",
       "    <tr>\n",
       "      <td>2</td>\n",
       "      <td>100</td>\n",
       "      <td>1 2 4 5 6 7</td>\n",
       "      <td>338465 328433 243861 361777 127198 466528 1592...</td>\n",
       "    </tr>\n",
       "    <tr>\n",
       "      <td>3</td>\n",
       "      <td>1006</td>\n",
       "      <td>1 2 4 5 6</td>\n",
       "      <td>46472 341947 396253 75316 42330 244095 171585 ...</td>\n",
       "    </tr>\n",
       "    <tr>\n",
       "      <td>4</td>\n",
       "      <td>1010</td>\n",
       "      <td>0 6 8</td>\n",
       "      <td>118251 219940 27517 8578 148347 433559 461006 ...</td>\n",
       "    </tr>\n",
       "  </tbody>\n",
       "</table>\n",
       "</div>"
      ],
      "text/plain": [
       "   business_id         labels  \\\n",
       "0         1000  1 2 3 4 5 6 7   \n",
       "1         1001        0 1 6 8   \n",
       "2          100    1 2 4 5 6 7   \n",
       "3         1006      1 2 4 5 6   \n",
       "4         1010          0 6 8   \n",
       "\n",
       "                                           photos_id  \n",
       "0  438623 325966 227692 407856 368729 163193 2878...  \n",
       "1  298536 20346 8457 308694 349310 407838 280304 ...  \n",
       "2  338465 328433 243861 361777 127198 466528 1592...  \n",
       "3  46472 341947 396253 75316 42330 244095 171585 ...  \n",
       "4  118251 219940 27517 8578 148347 433559 461006 ...  "
      ]
     },
     "execution_count": 33,
     "metadata": {},
     "output_type": "execute_result"
    }
   ],
   "source": [
    "df_train.head()"
   ]
  },
  {
   "cell_type": "code",
   "execution_count": 34,
   "metadata": {},
   "outputs": [
    {
     "name": "stdout",
     "output_type": "stream",
     "text": [
      "4\n"
     ]
    }
   ],
   "source": [
    "print(df_train.isnull().sum().sum())"
   ]
  },
  {
   "cell_type": "code",
   "execution_count": 35,
   "metadata": {},
   "outputs": [],
   "source": [
    "df_train.dropna(inplace=True)\n",
    "df_train.reset_index(drop=True, inplace=True)"
   ]
  },
  {
   "cell_type": "code",
   "execution_count": 36,
   "metadata": {},
   "outputs": [
    {
     "data": {
      "text/html": [
       "<div>\n",
       "<style scoped>\n",
       "    .dataframe tbody tr th:only-of-type {\n",
       "        vertical-align: middle;\n",
       "    }\n",
       "\n",
       "    .dataframe tbody tr th {\n",
       "        vertical-align: top;\n",
       "    }\n",
       "\n",
       "    .dataframe thead th {\n",
       "        text-align: right;\n",
       "    }\n",
       "</style>\n",
       "<table border=\"1\" class=\"dataframe\">\n",
       "  <thead>\n",
       "    <tr style=\"text-align: right;\">\n",
       "      <th></th>\n",
       "      <th>business_id</th>\n",
       "      <th>labels</th>\n",
       "      <th>photos_id</th>\n",
       "    </tr>\n",
       "  </thead>\n",
       "  <tbody>\n",
       "    <tr>\n",
       "      <td>0</td>\n",
       "      <td>1000</td>\n",
       "      <td>1 2 3 4 5 6 7</td>\n",
       "      <td>438623 325966 227692 407856 368729 163193 2878...</td>\n",
       "    </tr>\n",
       "    <tr>\n",
       "      <td>1</td>\n",
       "      <td>1001</td>\n",
       "      <td>0 1 6 8</td>\n",
       "      <td>298536 20346 8457 308694 349310 407838 280304 ...</td>\n",
       "    </tr>\n",
       "    <tr>\n",
       "      <td>2</td>\n",
       "      <td>100</td>\n",
       "      <td>1 2 4 5 6 7</td>\n",
       "      <td>338465 328433 243861 361777 127198 466528 1592...</td>\n",
       "    </tr>\n",
       "    <tr>\n",
       "      <td>3</td>\n",
       "      <td>1006</td>\n",
       "      <td>1 2 4 5 6</td>\n",
       "      <td>46472 341947 396253 75316 42330 244095 171585 ...</td>\n",
       "    </tr>\n",
       "    <tr>\n",
       "      <td>4</td>\n",
       "      <td>1010</td>\n",
       "      <td>0 6 8</td>\n",
       "      <td>118251 219940 27517 8578 148347 433559 461006 ...</td>\n",
       "    </tr>\n",
       "  </tbody>\n",
       "</table>\n",
       "</div>"
      ],
      "text/plain": [
       "   business_id         labels  \\\n",
       "0         1000  1 2 3 4 5 6 7   \n",
       "1         1001        0 1 6 8   \n",
       "2          100    1 2 4 5 6 7   \n",
       "3         1006      1 2 4 5 6   \n",
       "4         1010          0 6 8   \n",
       "\n",
       "                                           photos_id  \n",
       "0  438623 325966 227692 407856 368729 163193 2878...  \n",
       "1  298536 20346 8457 308694 349310 407838 280304 ...  \n",
       "2  338465 328433 243861 361777 127198 466528 1592...  \n",
       "3  46472 341947 396253 75316 42330 244095 171585 ...  \n",
       "4  118251 219940 27517 8578 148347 433559 461006 ...  "
      ]
     },
     "execution_count": 36,
     "metadata": {},
     "output_type": "execute_result"
    }
   ],
   "source": [
    "df_train.head()"
   ]
  },
  {
   "cell_type": "markdown",
   "metadata": {},
   "source": [
    "Business attributes, that corresponds to labels:\n",
    "\n",
    "0: good_for_lunch\n",
    "\n",
    "1: good_for_dinner\n",
    "\n",
    "2: takes_reservations\n",
    "\n",
    "3: outdoor_seating\n",
    "\n",
    "4: restaurant_is_expensive\n",
    "\n",
    "5: has_alcohol\n",
    "\n",
    "6: has_table_service\n",
    "\n",
    "7: ambience_is_classy\n",
    "\n",
    "8: good_for_kids\n"
   ]
  },
  {
   "cell_type": "code",
   "execution_count": 37,
   "metadata": {},
   "outputs": [],
   "source": [
    "labels_str = [\n",
    "    \"good for lunch\", \"good for dinner\", \"takes reservations\",\n",
    "    \"outdoor seating\", \"restaurant is expensive\", \"has alcohol\",\n",
    "    \"has table service\", \"ambience is classy\", \"good for kids\"\n",
    "]"
   ]
  },
  {
   "cell_type": "code",
   "execution_count": 38,
   "metadata": {},
   "outputs": [],
   "source": [
    "LABELS_NUM = 9"
   ]
  },
  {
   "cell_type": "code",
   "execution_count": 39,
   "metadata": {},
   "outputs": [
    {
     "data": {
      "text/html": [
       "<div>\n",
       "<style scoped>\n",
       "    .dataframe tbody tr th:only-of-type {\n",
       "        vertical-align: middle;\n",
       "    }\n",
       "\n",
       "    .dataframe tbody tr th {\n",
       "        vertical-align: top;\n",
       "    }\n",
       "\n",
       "    .dataframe thead th {\n",
       "        text-align: right;\n",
       "    }\n",
       "</style>\n",
       "<table border=\"1\" class=\"dataframe\">\n",
       "  <thead>\n",
       "    <tr style=\"text-align: right;\">\n",
       "      <th></th>\n",
       "      <th>business_id</th>\n",
       "      <th>photos_id</th>\n",
       "      <th>0</th>\n",
       "      <th>1</th>\n",
       "      <th>2</th>\n",
       "      <th>3</th>\n",
       "      <th>4</th>\n",
       "      <th>5</th>\n",
       "      <th>6</th>\n",
       "      <th>7</th>\n",
       "      <th>8</th>\n",
       "    </tr>\n",
       "  </thead>\n",
       "  <tbody>\n",
       "    <tr>\n",
       "      <td>0</td>\n",
       "      <td>1000</td>\n",
       "      <td>438623 325966 227692 407856 368729 163193 2878...</td>\n",
       "      <td>0.0</td>\n",
       "      <td>1.0</td>\n",
       "      <td>1.0</td>\n",
       "      <td>1.0</td>\n",
       "      <td>1.0</td>\n",
       "      <td>1.0</td>\n",
       "      <td>1.0</td>\n",
       "      <td>1.0</td>\n",
       "      <td>0.0</td>\n",
       "    </tr>\n",
       "    <tr>\n",
       "      <td>1</td>\n",
       "      <td>1001</td>\n",
       "      <td>298536 20346 8457 308694 349310 407838 280304 ...</td>\n",
       "      <td>1.0</td>\n",
       "      <td>1.0</td>\n",
       "      <td>0.0</td>\n",
       "      <td>0.0</td>\n",
       "      <td>0.0</td>\n",
       "      <td>0.0</td>\n",
       "      <td>1.0</td>\n",
       "      <td>0.0</td>\n",
       "      <td>1.0</td>\n",
       "    </tr>\n",
       "    <tr>\n",
       "      <td>2</td>\n",
       "      <td>100</td>\n",
       "      <td>338465 328433 243861 361777 127198 466528 1592...</td>\n",
       "      <td>0.0</td>\n",
       "      <td>1.0</td>\n",
       "      <td>1.0</td>\n",
       "      <td>0.0</td>\n",
       "      <td>1.0</td>\n",
       "      <td>1.0</td>\n",
       "      <td>1.0</td>\n",
       "      <td>1.0</td>\n",
       "      <td>0.0</td>\n",
       "    </tr>\n",
       "    <tr>\n",
       "      <td>3</td>\n",
       "      <td>1006</td>\n",
       "      <td>46472 341947 396253 75316 42330 244095 171585 ...</td>\n",
       "      <td>0.0</td>\n",
       "      <td>1.0</td>\n",
       "      <td>1.0</td>\n",
       "      <td>0.0</td>\n",
       "      <td>1.0</td>\n",
       "      <td>1.0</td>\n",
       "      <td>1.0</td>\n",
       "      <td>0.0</td>\n",
       "      <td>0.0</td>\n",
       "    </tr>\n",
       "    <tr>\n",
       "      <td>4</td>\n",
       "      <td>1010</td>\n",
       "      <td>118251 219940 27517 8578 148347 433559 461006 ...</td>\n",
       "      <td>1.0</td>\n",
       "      <td>0.0</td>\n",
       "      <td>0.0</td>\n",
       "      <td>0.0</td>\n",
       "      <td>0.0</td>\n",
       "      <td>0.0</td>\n",
       "      <td>1.0</td>\n",
       "      <td>0.0</td>\n",
       "      <td>1.0</td>\n",
       "    </tr>\n",
       "  </tbody>\n",
       "</table>\n",
       "</div>"
      ],
      "text/plain": [
       "   business_id                                          photos_id    0    1  \\\n",
       "0         1000  438623 325966 227692 407856 368729 163193 2878...  0.0  1.0   \n",
       "1         1001  298536 20346 8457 308694 349310 407838 280304 ...  1.0  1.0   \n",
       "2          100  338465 328433 243861 361777 127198 466528 1592...  0.0  1.0   \n",
       "3         1006  46472 341947 396253 75316 42330 244095 171585 ...  0.0  1.0   \n",
       "4         1010  118251 219940 27517 8578 148347 433559 461006 ...  1.0  0.0   \n",
       "\n",
       "     2    3    4    5    6    7    8  \n",
       "0  1.0  1.0  1.0  1.0  1.0  1.0  0.0  \n",
       "1  0.0  0.0  0.0  0.0  1.0  0.0  1.0  \n",
       "2  1.0  0.0  1.0  1.0  1.0  1.0  0.0  \n",
       "3  1.0  0.0  1.0  1.0  1.0  0.0  0.0  \n",
       "4  0.0  0.0  0.0  0.0  1.0  0.0  1.0  "
      ]
     },
     "execution_count": 39,
     "metadata": {},
     "output_type": "execute_result"
    }
   ],
   "source": [
    "def encode_label(l):\n",
    "    res = np.zeros(LABELS_NUM)\n",
    "    for i in l:\n",
    "        res[i] = 1\n",
    "    return res\n",
    "\n",
    "train_L = np.vstack(df_train['labels'].apply(lambda x: tuple(sorted(int(t) for t in x.split()))).apply(encode_label))\n",
    "df_train = pd.concat([df_train, pd.DataFrame(train_L)], axis=1).drop(columns=[\"labels\"])\n",
    "df_train.head()"
   ]
  },
  {
   "cell_type": "code",
   "execution_count": 40,
   "metadata": {},
   "outputs": [],
   "source": [
    "def show_image(opencv_image):\n",
    "    b,g,r = cv2.split(opencv_image)\n",
    "    rgb_image = cv2.merge([r,g,b])\n",
    "    plt.imshow(rgb_image)\n",
    "    plt.show()"
   ]
  },
  {
   "cell_type": "code",
   "execution_count": 41,
   "metadata": {},
   "outputs": [],
   "source": [
    "def get_img(img_id):\n",
    "    return cv2.resize(cv2.imread(\"dataset/train_photos/\" + str(img_id) + \".jpg\"), (299, 299), interpolation = cv2.INTER_LINEAR)"
   ]
  },
  {
   "cell_type": "code",
   "execution_count": 42,
   "metadata": {},
   "outputs": [
    {
     "data": {
      "text/html": [
       "<div>\n",
       "<style scoped>\n",
       "    .dataframe tbody tr th:only-of-type {\n",
       "        vertical-align: middle;\n",
       "    }\n",
       "\n",
       "    .dataframe tbody tr th {\n",
       "        vertical-align: top;\n",
       "    }\n",
       "\n",
       "    .dataframe thead th {\n",
       "        text-align: right;\n",
       "    }\n",
       "</style>\n",
       "<table border=\"1\" class=\"dataframe\">\n",
       "  <thead>\n",
       "    <tr style=\"text-align: right;\">\n",
       "      <th></th>\n",
       "      <th>business_id</th>\n",
       "      <th>photos_id</th>\n",
       "      <th>0</th>\n",
       "      <th>1</th>\n",
       "      <th>2</th>\n",
       "      <th>3</th>\n",
       "      <th>4</th>\n",
       "      <th>5</th>\n",
       "      <th>6</th>\n",
       "      <th>7</th>\n",
       "      <th>8</th>\n",
       "    </tr>\n",
       "  </thead>\n",
       "  <tbody>\n",
       "    <tr>\n",
       "      <td>0</td>\n",
       "      <td>1000</td>\n",
       "      <td>438623 325966 227692 407856 368729 163193 2878...</td>\n",
       "      <td>0.0</td>\n",
       "      <td>1.0</td>\n",
       "      <td>1.0</td>\n",
       "      <td>1.0</td>\n",
       "      <td>1.0</td>\n",
       "      <td>1.0</td>\n",
       "      <td>1.0</td>\n",
       "      <td>1.0</td>\n",
       "      <td>0.0</td>\n",
       "    </tr>\n",
       "    <tr>\n",
       "      <td>1</td>\n",
       "      <td>1001</td>\n",
       "      <td>298536 20346 8457 308694 349310 407838 280304 ...</td>\n",
       "      <td>1.0</td>\n",
       "      <td>1.0</td>\n",
       "      <td>0.0</td>\n",
       "      <td>0.0</td>\n",
       "      <td>0.0</td>\n",
       "      <td>0.0</td>\n",
       "      <td>1.0</td>\n",
       "      <td>0.0</td>\n",
       "      <td>1.0</td>\n",
       "    </tr>\n",
       "    <tr>\n",
       "      <td>2</td>\n",
       "      <td>100</td>\n",
       "      <td>338465 328433 243861 361777 127198 466528 1592...</td>\n",
       "      <td>0.0</td>\n",
       "      <td>1.0</td>\n",
       "      <td>1.0</td>\n",
       "      <td>0.0</td>\n",
       "      <td>1.0</td>\n",
       "      <td>1.0</td>\n",
       "      <td>1.0</td>\n",
       "      <td>1.0</td>\n",
       "      <td>0.0</td>\n",
       "    </tr>\n",
       "    <tr>\n",
       "      <td>3</td>\n",
       "      <td>1006</td>\n",
       "      <td>46472 341947 396253 75316 42330 244095 171585 ...</td>\n",
       "      <td>0.0</td>\n",
       "      <td>1.0</td>\n",
       "      <td>1.0</td>\n",
       "      <td>0.0</td>\n",
       "      <td>1.0</td>\n",
       "      <td>1.0</td>\n",
       "      <td>1.0</td>\n",
       "      <td>0.0</td>\n",
       "      <td>0.0</td>\n",
       "    </tr>\n",
       "    <tr>\n",
       "      <td>4</td>\n",
       "      <td>1010</td>\n",
       "      <td>118251 219940 27517 8578 148347 433559 461006 ...</td>\n",
       "      <td>1.0</td>\n",
       "      <td>0.0</td>\n",
       "      <td>0.0</td>\n",
       "      <td>0.0</td>\n",
       "      <td>0.0</td>\n",
       "      <td>0.0</td>\n",
       "      <td>1.0</td>\n",
       "      <td>0.0</td>\n",
       "      <td>1.0</td>\n",
       "    </tr>\n",
       "  </tbody>\n",
       "</table>\n",
       "</div>"
      ],
      "text/plain": [
       "   business_id                                          photos_id    0    1  \\\n",
       "0         1000  438623 325966 227692 407856 368729 163193 2878...  0.0  1.0   \n",
       "1         1001  298536 20346 8457 308694 349310 407838 280304 ...  1.0  1.0   \n",
       "2          100  338465 328433 243861 361777 127198 466528 1592...  0.0  1.0   \n",
       "3         1006  46472 341947 396253 75316 42330 244095 171585 ...  0.0  1.0   \n",
       "4         1010  118251 219940 27517 8578 148347 433559 461006 ...  1.0  0.0   \n",
       "\n",
       "     2    3    4    5    6    7    8  \n",
       "0  1.0  1.0  1.0  1.0  1.0  1.0  0.0  \n",
       "1  0.0  0.0  0.0  0.0  1.0  0.0  1.0  \n",
       "2  1.0  0.0  1.0  1.0  1.0  1.0  0.0  \n",
       "3  1.0  0.0  1.0  1.0  1.0  0.0  0.0  \n",
       "4  0.0  0.0  0.0  0.0  1.0  0.0  1.0  "
      ]
     },
     "execution_count": 42,
     "metadata": {},
     "output_type": "execute_result"
    }
   ],
   "source": [
    "df_train.head()"
   ]
  },
  {
   "cell_type": "code",
   "execution_count": 43,
   "metadata": {},
   "outputs": [
    {
     "data": {
      "image/png": "[encoded data removed]",
      "text/plain": [
       "<Figure size 1500x500 with 1 Axes>"
      ]
     },
     "metadata": {
      "needs_background": "light"
     },
     "output_type": "display_data"
    }
   ],
   "source": [
    "show_image(get_img(int(df.sample(1).photo_id)))"
   ]
  },
  {
   "cell_type": "markdown",
   "metadata": {},
   "source": [
    "# Feature extraction"
   ]
  },
  {
   "cell_type": "markdown",
   "metadata": {},
   "source": [
    "## Inception"
   ]
  },
  {
   "cell_type": "code",
   "execution_count": 48,
   "metadata": {},
   "outputs": [],
   "source": [
    "from keras.applications import InceptionV3, ResNet50\n",
    "from keras.applications.inception_v3 import preprocess_input as inception_preprocess\n",
    "from keras.applications.resnet50 import preprocess_input as resnet_preprocess\n",
    "from keras.preprocessing import image\n",
    "from keras.models import Model, Sequential\n",
    "from keras.layers import Dense, Flatten"
   ]
  },
  {
   "cell_type": "code",
   "execution_count": 49,
   "metadata": {},
   "outputs": [],
   "source": [
    "from operator import methodcaller"
   ]
  },
  {
   "cell_type": "code",
   "execution_count": 50,
   "metadata": {},
   "outputs": [],
   "source": [
    "def get_images(df):\n",
    "    return list(\n",
    "        map(lambda x: list(map(get_img, x)),\n",
    "            map(methodcaller(\"split\", \" \"), df[\"photos_id\"])))"
   ]
  },
  {
   "cell_type": "code",
   "execution_count": 51,
   "metadata": {},
   "outputs": [],
   "source": [
    "def modify_model(original_model):\n",
    "    original_model.layers.pop()\n",
    "    bottleneck_model = Model(inputs=original_model.inputs, outputs=original_model.layers[-1].output)\n",
    "\n",
    "    for layer in bottleneck_model.layers:\n",
    "        layer.trainable = False\n",
    "\n",
    "    return bottleneck_model"
   ]
  },
  {
   "cell_type": "code",
   "execution_count": 53,
   "metadata": {},
   "outputs": [],
   "source": [
    "%%script false\n",
    "def get_feature(model, preprocess, img):\n",
    "    return model.predict(preprocess(np.expand_dims(image.img_to_array(img), axis=0)))\n",
    "    \n",
    "inception_model = modify_model(InceptionV3(weights='imagenet'))\n",
    "df_train[\"inception_feature\"] = 0 \n",
    "resnet_model = modify_model(ResNet50(weights='imagenet'))\n",
    "df_train[\"resnet_feature\"] = 0 \n",
    "\n",
    "cur_df = df_train\n",
    "for ind in range(len(cur_df)):\n",
    "    imgs = get_images(cur_df.iloc[ind:ind+1])[0]\n",
    "    inception_features = list(map(lambda x: get_feature(inception_model, inception_preprocess, x), imgs))\n",
    "    resnet_features = list(map(lambda x: get_feature(resnet_model, resnet_preprocess, x), imgs))\n",
    "\n",
    "    inception_feature = np.array(features).mean(axis=0)\n",
    "    cur_df.iloc[ind, -1] = feature.flatten().tostring()\n",
    "\n",
    "\n",
    "with open(\"result.csv\", \"w\") as f:\n",
    "    f.write(df_train.to_csv())"
   ]
  },
  {
   "cell_type": "code",
   "execution_count": 73,
   "metadata": {},
   "outputs": [
    {
     "data": {
      "text/html": [
       "<div>\n",
       "<style scoped>\n",
       "    .dataframe tbody tr th:only-of-type {\n",
       "        vertical-align: middle;\n",
       "    }\n",
       "\n",
       "    .dataframe tbody tr th {\n",
       "        vertical-align: top;\n",
       "    }\n",
       "\n",
       "    .dataframe thead th {\n",
       "        text-align: right;\n",
       "    }\n",
       "</style>\n",
       "<table border=\"1\" class=\"dataframe\">\n",
       "  <thead>\n",
       "    <tr style=\"text-align: right;\">\n",
       "      <th></th>\n",
       "      <th>business_id</th>\n",
       "      <th>0</th>\n",
       "      <th>1</th>\n",
       "      <th>2</th>\n",
       "      <th>3</th>\n",
       "      <th>4</th>\n",
       "      <th>5</th>\n",
       "      <th>6</th>\n",
       "      <th>7</th>\n",
       "      <th>8</th>\n",
       "      <th>...</th>\n",
       "      <th>inception_2038</th>\n",
       "      <th>inception_2039</th>\n",
       "      <th>inception_2040</th>\n",
       "      <th>inception_2041</th>\n",
       "      <th>inception_2042</th>\n",
       "      <th>inception_2043</th>\n",
       "      <th>inception_2044</th>\n",
       "      <th>inception_2045</th>\n",
       "      <th>inception_2046</th>\n",
       "      <th>inception_2047</th>\n",
       "    </tr>\n",
       "  </thead>\n",
       "  <tbody>\n",
       "    <tr>\n",
       "      <td>0</td>\n",
       "      <td>1000</td>\n",
       "      <td>0.0</td>\n",
       "      <td>1.0</td>\n",
       "      <td>1.0</td>\n",
       "      <td>1.0</td>\n",
       "      <td>1.0</td>\n",
       "      <td>1.0</td>\n",
       "      <td>1.0</td>\n",
       "      <td>1.0</td>\n",
       "      <td>0.0</td>\n",
       "      <td>...</td>\n",
       "      <td>0.563077</td>\n",
       "      <td>0.300496</td>\n",
       "      <td>0.496248</td>\n",
       "      <td>0.642599</td>\n",
       "      <td>0.320780</td>\n",
       "      <td>0.496677</td>\n",
       "      <td>0.422619</td>\n",
       "      <td>0.416445</td>\n",
       "      <td>0.762994</td>\n",
       "      <td>0.547193</td>\n",
       "    </tr>\n",
       "    <tr>\n",
       "      <td>1</td>\n",
       "      <td>1001</td>\n",
       "      <td>1.0</td>\n",
       "      <td>1.0</td>\n",
       "      <td>0.0</td>\n",
       "      <td>0.0</td>\n",
       "      <td>0.0</td>\n",
       "      <td>0.0</td>\n",
       "      <td>1.0</td>\n",
       "      <td>0.0</td>\n",
       "      <td>1.0</td>\n",
       "      <td>...</td>\n",
       "      <td>0.687586</td>\n",
       "      <td>0.444784</td>\n",
       "      <td>0.395419</td>\n",
       "      <td>0.488528</td>\n",
       "      <td>0.311054</td>\n",
       "      <td>0.219160</td>\n",
       "      <td>0.196948</td>\n",
       "      <td>0.247547</td>\n",
       "      <td>0.547384</td>\n",
       "      <td>0.906186</td>\n",
       "    </tr>\n",
       "    <tr>\n",
       "      <td>2</td>\n",
       "      <td>100</td>\n",
       "      <td>0.0</td>\n",
       "      <td>1.0</td>\n",
       "      <td>1.0</td>\n",
       "      <td>0.0</td>\n",
       "      <td>1.0</td>\n",
       "      <td>1.0</td>\n",
       "      <td>1.0</td>\n",
       "      <td>1.0</td>\n",
       "      <td>0.0</td>\n",
       "      <td>...</td>\n",
       "      <td>0.351885</td>\n",
       "      <td>0.419741</td>\n",
       "      <td>0.560347</td>\n",
       "      <td>0.602544</td>\n",
       "      <td>0.261879</td>\n",
       "      <td>0.395389</td>\n",
       "      <td>0.393384</td>\n",
       "      <td>0.486382</td>\n",
       "      <td>0.964477</td>\n",
       "      <td>0.568283</td>\n",
       "    </tr>\n",
       "    <tr>\n",
       "      <td>3</td>\n",
       "      <td>1006</td>\n",
       "      <td>0.0</td>\n",
       "      <td>1.0</td>\n",
       "      <td>1.0</td>\n",
       "      <td>0.0</td>\n",
       "      <td>1.0</td>\n",
       "      <td>1.0</td>\n",
       "      <td>1.0</td>\n",
       "      <td>0.0</td>\n",
       "      <td>0.0</td>\n",
       "      <td>...</td>\n",
       "      <td>0.402648</td>\n",
       "      <td>0.392864</td>\n",
       "      <td>0.295718</td>\n",
       "      <td>0.561332</td>\n",
       "      <td>0.365223</td>\n",
       "      <td>0.310791</td>\n",
       "      <td>0.261287</td>\n",
       "      <td>0.315296</td>\n",
       "      <td>0.854996</td>\n",
       "      <td>0.405677</td>\n",
       "    </tr>\n",
       "    <tr>\n",
       "      <td>4</td>\n",
       "      <td>1010</td>\n",
       "      <td>1.0</td>\n",
       "      <td>0.0</td>\n",
       "      <td>0.0</td>\n",
       "      <td>0.0</td>\n",
       "      <td>0.0</td>\n",
       "      <td>0.0</td>\n",
       "      <td>1.0</td>\n",
       "      <td>0.0</td>\n",
       "      <td>1.0</td>\n",
       "      <td>...</td>\n",
       "      <td>0.262372</td>\n",
       "      <td>0.501478</td>\n",
       "      <td>0.329950</td>\n",
       "      <td>0.686597</td>\n",
       "      <td>0.207624</td>\n",
       "      <td>0.266387</td>\n",
       "      <td>0.311262</td>\n",
       "      <td>0.340340</td>\n",
       "      <td>0.683826</td>\n",
       "      <td>0.494297</td>\n",
       "    </tr>\n",
       "    <tr>\n",
       "      <td>...</td>\n",
       "      <td>...</td>\n",
       "      <td>...</td>\n",
       "      <td>...</td>\n",
       "      <td>...</td>\n",
       "      <td>...</td>\n",
       "      <td>...</td>\n",
       "      <td>...</td>\n",
       "      <td>...</td>\n",
       "      <td>...</td>\n",
       "      <td>...</td>\n",
       "      <td>...</td>\n",
       "      <td>...</td>\n",
       "      <td>...</td>\n",
       "      <td>...</td>\n",
       "      <td>...</td>\n",
       "      <td>...</td>\n",
       "      <td>...</td>\n",
       "      <td>...</td>\n",
       "      <td>...</td>\n",
       "      <td>...</td>\n",
       "      <td>...</td>\n",
       "    </tr>\n",
       "    <tr>\n",
       "      <td>1991</td>\n",
       "      <td>991</td>\n",
       "      <td>0.0</td>\n",
       "      <td>1.0</td>\n",
       "      <td>1.0</td>\n",
       "      <td>1.0</td>\n",
       "      <td>0.0</td>\n",
       "      <td>1.0</td>\n",
       "      <td>1.0</td>\n",
       "      <td>1.0</td>\n",
       "      <td>0.0</td>\n",
       "      <td>...</td>\n",
       "      <td>0.392881</td>\n",
       "      <td>0.401780</td>\n",
       "      <td>0.440021</td>\n",
       "      <td>0.517667</td>\n",
       "      <td>0.284937</td>\n",
       "      <td>0.392097</td>\n",
       "      <td>0.323733</td>\n",
       "      <td>0.545685</td>\n",
       "      <td>0.900432</td>\n",
       "      <td>0.516516</td>\n",
       "    </tr>\n",
       "    <tr>\n",
       "      <td>1992</td>\n",
       "      <td>993</td>\n",
       "      <td>0.0</td>\n",
       "      <td>0.0</td>\n",
       "      <td>0.0</td>\n",
       "      <td>1.0</td>\n",
       "      <td>0.0</td>\n",
       "      <td>0.0</td>\n",
       "      <td>1.0</td>\n",
       "      <td>0.0</td>\n",
       "      <td>1.0</td>\n",
       "      <td>...</td>\n",
       "      <td>0.610346</td>\n",
       "      <td>0.298387</td>\n",
       "      <td>0.556601</td>\n",
       "      <td>0.717390</td>\n",
       "      <td>0.315237</td>\n",
       "      <td>0.349368</td>\n",
       "      <td>0.427380</td>\n",
       "      <td>0.298072</td>\n",
       "      <td>0.897915</td>\n",
       "      <td>0.647823</td>\n",
       "    </tr>\n",
       "    <tr>\n",
       "      <td>1993</td>\n",
       "      <td>997</td>\n",
       "      <td>0.0</td>\n",
       "      <td>0.0</td>\n",
       "      <td>0.0</td>\n",
       "      <td>0.0</td>\n",
       "      <td>0.0</td>\n",
       "      <td>0.0</td>\n",
       "      <td>0.0</td>\n",
       "      <td>0.0</td>\n",
       "      <td>1.0</td>\n",
       "      <td>...</td>\n",
       "      <td>0.476827</td>\n",
       "      <td>0.358441</td>\n",
       "      <td>0.396910</td>\n",
       "      <td>0.607734</td>\n",
       "      <td>0.322621</td>\n",
       "      <td>0.296289</td>\n",
       "      <td>0.508133</td>\n",
       "      <td>0.386703</td>\n",
       "      <td>0.568184</td>\n",
       "      <td>0.506585</td>\n",
       "    </tr>\n",
       "    <tr>\n",
       "      <td>1994</td>\n",
       "      <td>998</td>\n",
       "      <td>0.0</td>\n",
       "      <td>1.0</td>\n",
       "      <td>1.0</td>\n",
       "      <td>0.0</td>\n",
       "      <td>1.0</td>\n",
       "      <td>1.0</td>\n",
       "      <td>1.0</td>\n",
       "      <td>1.0</td>\n",
       "      <td>0.0</td>\n",
       "      <td>...</td>\n",
       "      <td>0.432625</td>\n",
       "      <td>0.405022</td>\n",
       "      <td>0.496879</td>\n",
       "      <td>0.797893</td>\n",
       "      <td>0.303353</td>\n",
       "      <td>0.334873</td>\n",
       "      <td>0.357277</td>\n",
       "      <td>0.352837</td>\n",
       "      <td>0.814716</td>\n",
       "      <td>0.554601</td>\n",
       "    </tr>\n",
       "    <tr>\n",
       "      <td>1995</td>\n",
       "      <td>999</td>\n",
       "      <td>0.0</td>\n",
       "      <td>1.0</td>\n",
       "      <td>1.0</td>\n",
       "      <td>0.0</td>\n",
       "      <td>0.0</td>\n",
       "      <td>1.0</td>\n",
       "      <td>1.0</td>\n",
       "      <td>1.0</td>\n",
       "      <td>0.0</td>\n",
       "      <td>...</td>\n",
       "      <td>0.349524</td>\n",
       "      <td>0.343470</td>\n",
       "      <td>0.341658</td>\n",
       "      <td>0.512543</td>\n",
       "      <td>0.208108</td>\n",
       "      <td>0.341460</td>\n",
       "      <td>0.397842</td>\n",
       "      <td>0.408976</td>\n",
       "      <td>0.893989</td>\n",
       "      <td>0.332685</td>\n",
       "    </tr>\n",
       "  </tbody>\n",
       "</table>\n",
       "<p>1996 rows × 2059 columns</p>\n",
       "</div>"
      ],
      "text/plain": [
       "      business_id    0    1    2    3    4    5    6    7    8  ...  \\\n",
       "0            1000  0.0  1.0  1.0  1.0  1.0  1.0  1.0  1.0  0.0  ...   \n",
       "1            1001  1.0  1.0  0.0  0.0  0.0  0.0  1.0  0.0  1.0  ...   \n",
       "2             100  0.0  1.0  1.0  0.0  1.0  1.0  1.0  1.0  0.0  ...   \n",
       "3            1006  0.0  1.0  1.0  0.0  1.0  1.0  1.0  0.0  0.0  ...   \n",
       "4            1010  1.0  0.0  0.0  0.0  0.0  0.0  1.0  0.0  1.0  ...   \n",
       "...           ...  ...  ...  ...  ...  ...  ...  ...  ...  ...  ...   \n",
       "1991          991  0.0  1.0  1.0  1.0  0.0  1.0  1.0  1.0  0.0  ...   \n",
       "1992          993  0.0  0.0  0.0  1.0  0.0  0.0  1.0  0.0  1.0  ...   \n",
       "1993          997  0.0  0.0  0.0  0.0  0.0  0.0  0.0  0.0  1.0  ...   \n",
       "1994          998  0.0  1.0  1.0  0.0  1.0  1.0  1.0  1.0  0.0  ...   \n",
       "1995          999  0.0  1.0  1.0  0.0  0.0  1.0  1.0  1.0  0.0  ...   \n",
       "\n",
       "     inception_2038  inception_2039  inception_2040  inception_2041  \\\n",
       "0          0.563077        0.300496        0.496248        0.642599   \n",
       "1          0.687586        0.444784        0.395419        0.488528   \n",
       "2          0.351885        0.419741        0.560347        0.602544   \n",
       "3          0.402648        0.392864        0.295718        0.561332   \n",
       "4          0.262372        0.501478        0.329950        0.686597   \n",
       "...             ...             ...             ...             ...   \n",
       "1991       0.392881        0.401780        0.440021        0.517667   \n",
       "1992       0.610346        0.298387        0.556601        0.717390   \n",
       "1993       0.476827        0.358441        0.396910        0.607734   \n",
       "1994       0.432625        0.405022        0.496879        0.797893   \n",
       "1995       0.349524        0.343470        0.341658        0.512543   \n",
       "\n",
       "      inception_2042  inception_2043  inception_2044  inception_2045  \\\n",
       "0           0.320780        0.496677        0.422619        0.416445   \n",
       "1           0.311054        0.219160        0.196948        0.247547   \n",
       "2           0.261879        0.395389        0.393384        0.486382   \n",
       "3           0.365223        0.310791        0.261287        0.315296   \n",
       "4           0.207624        0.266387        0.311262        0.340340   \n",
       "...              ...             ...             ...             ...   \n",
       "1991        0.284937        0.392097        0.323733        0.545685   \n",
       "1992        0.315237        0.349368        0.427380        0.298072   \n",
       "1993        0.322621        0.296289        0.508133        0.386703   \n",
       "1994        0.303353        0.334873        0.357277        0.352837   \n",
       "1995        0.208108        0.341460        0.397842        0.408976   \n",
       "\n",
       "      inception_2046  inception_2047  \n",
       "0           0.762994        0.547193  \n",
       "1           0.547384        0.906186  \n",
       "2           0.964477        0.568283  \n",
       "3           0.854996        0.405677  \n",
       "4           0.683826        0.494297  \n",
       "...              ...             ...  \n",
       "1991        0.900432        0.516516  \n",
       "1992        0.897915        0.647823  \n",
       "1993        0.568184        0.506585  \n",
       "1994        0.814716        0.554601  \n",
       "1995        0.893989        0.332685  \n",
       "\n",
       "[1996 rows x 2059 columns]"
      ]
     },
     "execution_count": 73,
     "metadata": {},
     "output_type": "execute_result"
    }
   ],
   "source": [
    "df = pd.read_csv(\"result.csv\", index_col='Unnamed: 0')\n",
    "inception_df = pd.DataFrame(\n",
    "    np.vstack(df[\"inception_feature\"].apply(\n",
    "        lambda x: np.fromstring(eval(x), dtype=np.float32))))\n",
    "inception_df.columns = [\"inception_\" + str(col) for col in inception_df.columns]\n",
    "df = pd.concat([df, inception_df], axis=1).drop(columns=[\"photos_id\"])\n",
    "df"
   ]
  },
  {
   "cell_type": "markdown",
   "metadata": {},
   "source": [
    "## Fisher vector"
   ]
  },
  {
   "cell_type": "code",
   "execution_count": 74,
   "metadata": {},
   "outputs": [],
   "source": [
    "from sklearn.mixture import GaussianMixture"
   ]
  },
  {
   "cell_type": "code",
   "execution_count": 75,
   "metadata": {},
   "outputs": [],
   "source": [
    "def fisher_vector(xx, gmm):\n",
    "    xx = np.atleast_2d(xx)\n",
    "    N = xx.shape[0]\n",
    "\n",
    "    # Compute posterior probabilities.\n",
    "    Q = gmm.predict_proba(xx)  # NxK\n",
    "\n",
    "    # Compute the sufficient statistics of descriptors.\n",
    "    Q_sum = np.sum(Q, 0)[:, np.newaxis] / N\n",
    "    Q_xx = np.dot(Q.T, xx) / N\n",
    "    Q_xx_2 = np.dot(Q.T, xx ** 2) / N\n",
    "\n",
    "    # Compute derivatives with respect to mixing weights, means and variances.\n",
    "    d_pi = Q_sum.squeeze() - gmm.weights_\n",
    "    d_mu = Q_xx - Q_sum * gmm.means_\n",
    "    d_sigma = (\n",
    "        - Q_xx_2\n",
    "        - Q_sum * gmm.means_ ** 2\n",
    "        + Q_sum * gmm.covariances_\n",
    "        + 2 * Q_xx * gmm.means_)\n",
    "\n",
    "    # Merge derivatives into a vector.\n",
    "    return np.hstack((d_pi, d_mu.flatten(), d_sigma.flatten()))\n"
   ]
  },
  {
   "cell_type": "code",
   "execution_count": 76,
   "metadata": {},
   "outputs": [],
   "source": [
    "def grid_search_GMM(X, K=16):\n",
    "    lowest_bic = np.inf\n",
    "    bic = []\n",
    "    n_components_range = range(1, K)\n",
    "    for n_components in n_components_range:\n",
    "        gmm = GaussianMixture(n_components=n_components, covariance_type='diag', random_state=42)\n",
    "        gmm.fit(X)\n",
    "        bic.append(gmm.bic(X))\n",
    "        if bic[-1] < lowest_bic:\n",
    "            lowest_bic = bic[-1]\n",
    "            best_gmm = gmm\n",
    "    print(best_gmm)\n",
    "    return best_gmm"
   ]
  },
  {
   "cell_type": "code",
   "execution_count": 84,
   "metadata": {},
   "outputs": [
    {
     "name": "stdout",
     "output_type": "stream",
     "text": [
      "GaussianMixture(covariance_type='diag', init_params='kmeans', max_iter=100,\n",
      "                means_init=None, n_components=13, n_init=1,\n",
      "                precisions_init=None, random_state=42, reg_covar=1e-06,\n",
      "                tol=0.001, verbose=0, verbose_interval=10, warm_start=False,\n",
      "                weights_init=None)\n"
     ]
    }
   ],
   "source": [
    "gmm = grid_search_GMM(df.iloc[:, -2048:], 64)"
   ]
  },
  {
   "cell_type": "code",
   "execution_count": 87,
   "metadata": {},
   "outputs": [
    {
     "name": "stdout",
     "output_type": "stream",
     "text": [
      "[-0.10222702392589418 0.9178356212948553 -0.07014173880281319 ... 0.0 0.0\n",
      " 0.0]\n",
      "53261\n"
     ]
    }
   ],
   "source": [
    "print(fisher_vector(df.iloc[0, -2048:], gmm))\n",
    "print(len(fisher_vector(df.iloc[0, -2048:], gmm)))"
   ]
  },
  {
   "cell_type": "markdown",
   "metadata": {},
   "source": [
    "## VLAD Descriptor"
   ]
  },
  {
   "cell_type": "code",
   "execution_count": 88,
   "metadata": {},
   "outputs": [],
   "source": [
    "from Vlad import Vlad"
   ]
  },
  {
   "cell_type": "code",
   "execution_count": 90,
   "metadata": {},
   "outputs": [
    {
     "data": {
      "text/plain": [
       "Vlad(dimension_ordering='tf', inner_batch=128, n_codewords=16, normalization=3)"
      ]
     },
     "execution_count": 90,
     "metadata": {},
     "output_type": "execute_result"
    }
   ],
   "source": [
    "vlad = Vlad(16)\n",
    "vlad.fit(df.iloc[:, -2048:].values)"
   ]
  },
  {
   "cell_type": "code",
   "execution_count": 92,
   "metadata": {},
   "outputs": [
    {
     "data": {
      "text/plain": [
       "array([[ 0.        ,  0.        ,  0.        , ...,  0.        ,\n",
       "         0.        ,  0.        ],\n",
       "       [ 0.        ,  0.        ,  0.        , ...,  0.        ,\n",
       "         0.        ,  0.        ],\n",
       "       [ 0.        ,  0.        ,  0.        , ...,  0.        ,\n",
       "         0.        ,  0.        ],\n",
       "       ...,\n",
       "       [ 0.        ,  0.        ,  0.        , ...,  0.        ,\n",
       "         0.        ,  0.        ],\n",
       "       [ 0.        ,  0.        ,  0.        , ...,  0.        ,\n",
       "         0.        ,  0.        ],\n",
       "       [ 0.        ,  0.        ,  0.        , ..., -0.01581753,\n",
       "        -0.01266471, -0.04072613]])"
      ]
     },
     "execution_count": 92,
     "metadata": {},
     "output_type": "execute_result"
    }
   ],
   "source": [
    "vlad_features = vlad.transform(df.iloc[:, -2048:].values)\n",
    "vlad_features"
   ]
  },
  {
   "cell_type": "markdown",
   "metadata": {},
   "source": [
    "# Data investigating\n",
    "\n",
    "## Class balance"
   ]
  },
  {
   "cell_type": "code",
   "execution_count": 156,
   "metadata": {},
   "outputs": [],
   "source": [
    "def show_classes_count(df):\n",
    "    labels = df.drop(columns=[\"business_id\"])\n",
    "    labels_count = []\n",
    "    for i in range(LABELS_NUM):\n",
    "        labels_count.append(df[str(i)].sum())\n",
    "    plt.bar(x=range(LABELS_NUM), height=labels_count, tick_label=labels_str)"
   ]
  },
  {
   "cell_type": "markdown",
   "metadata": {},
   "source": [
    "Generally, it is hard task to balance classes in multi-label classification, but let's try to do it in easy way. First, let's use upsampling for good for lunch, as it has the smallest amount os samples"
   ]
  },
  {
   "cell_type": "code",
   "execution_count": 157,
   "metadata": {},
   "outputs": [
    {
     "data": {
      "image/png": "[encoded data removed]",
      "text/plain": [
       "<Figure size 1500x500 with 1 Axes>"
      ]
     },
     "metadata": {
      "needs_background": "light"
     },
     "output_type": "display_data"
    }
   ],
   "source": [
    "show_classes_count(df)"
   ]
  },
  {
   "cell_type": "code",
   "execution_count": 160,
   "metadata": {},
   "outputs": [
    {
     "data": {
      "image/png": "[encoded data removed]",
      "text/plain": [
       "<Figure size 1500x500 with 1 Axes>"
      ]
     },
     "metadata": {
      "needs_background": "light"
     },
     "output_type": "display_data"
    }
   ],
   "source": [
    "show_classes_count(df.append(df[df['7'] == 1]))"
   ]
  },
  {
   "cell_type": "markdown",
   "metadata": {},
   "source": [
    "We can see, that it improved the situation, but we have much more samples from 5 and 6 labels comparing to 4 and 7. So let's use downsampling for 5 and 6 classes, but while removing samples take into account, that samples, that have 0, 4 and 7 classes don't remove"
   ]
  },
  {
   "cell_type": "code",
   "execution_count": 163,
   "metadata": {},
   "outputs": [
    {
     "data": {
      "image/png": "[encoded data removed]",
      "text/plain": [
       "<Figure size 1500x500 with 1 Axes>"
      ]
     },
     "metadata": {
      "needs_background": "light"
     },
     "output_type": "display_data"
    }
   ],
   "source": [
    "a = df[df['6'] == 1]\n",
    "a = df[df['5'] == 1].append(a[a['5'] == 0])\n",
    "a = a[a['7'] == 0]\n",
    "a = a[a['4'] == 0]\n",
    "a = a[a['0'] == 0]\n",
    "a = df.iloc[list(set(df.index) - set(a.index))]\n",
    "balanced_df = a.append(a[a['7'] == '1'])\n",
    "show_classes_count(balanced_df)"
   ]
  },
  {
   "cell_type": "markdown",
   "metadata": {},
   "source": [
    "For now, 7 classs could have more samples, but generally classes are much more balanced"
   ]
  },
  {
   "cell_type": "markdown",
   "metadata": {},
   "source": [
    "# Classification"
   ]
  },
  {
   "cell_type": "code",
   "execution_count": 178,
   "metadata": {},
   "outputs": [],
   "source": [
    "from sklearn.linear_model import LogisticRegression\n",
    "from sklearn.metrics import accuracy_score"
   ]
  },
  {
   "cell_type": "code",
   "execution_count": 165,
   "metadata": {},
   "outputs": [],
   "source": [
    "def split_and_stratify(df, percn_to_ignore):\n",
    "    y = df.drop([\"photos_id\", ], axis=1)\n",
    "    X_stratified, _ = train_test_split(df, test_size=percn_to_ignore, random_state=42, stratify=y)\n",
    "    X_stratified[\"photo\"]\n",
    "    return X_stratified"
   ]
  },
  {
   "cell_type": "code",
   "execution_count": 166,
   "metadata": {},
   "outputs": [],
   "source": [
    "class BinaryRelevance:\n",
    "    def __init__(self, model, label_num):\n",
    "        self.models = [model() for i in range(label_num)]\n",
    "        \n",
    "    def fit(self, X, y):\n",
    "        for ind, m in enumerate(self.models):\n",
    "            m.fit(X, y.iloc[:,ind])\n",
    "            \n",
    "    def predict(self, X):\n",
    "        res = []\n",
    "        for m in self.models:\n",
    "            res.append(m.predict(X))\n",
    "        return np.array(res).T"
   ]
  },
  {
   "cell_type": "code",
   "execution_count": 172,
   "metadata": {},
   "outputs": [],
   "source": [
    "df_train, df_test = train_test_split(balanced_df, test_size=0.2, random_state=42)\n",
    "X_train = df_train.iloc[:, -2048:]\n",
    "y_train = df_train.iloc[:, 1:10]\n",
    "X_test = df_test.iloc[:, -2048:]\n",
    "y_test = df_test.iloc[:, 1:10]"
   ]
  },
  {
   "cell_type": "code",
   "execution_count": 179,
   "metadata": {},
   "outputs": [
    {
     "name": "stdout",
     "output_type": "stream",
     "text": [
      "0.2247557003257329\n"
     ]
    }
   ],
   "source": [
    "br = BinaryRelevance(LogisticRegression, LABELS_NUM)\n",
    "br.fit(X_train, y_train)\n",
    "y_pred = br.predict(X_test)\n",
    "\n",
    "print(accuracy_score(y_test, y_pred))"
   ]
  },
  {
   "cell_type": "code",
   "execution_count": null,
   "metadata": {},
   "outputs": [],
   "source": []
  }
 ],
 "metadata": {
  "kernelspec": {
   "display_name": "Python 3",
   "language": "python",
   "name": "python3"
  },
  "language_info": {
   "codemirror_mode": {
    "name": "ipython",
    "version": 3
   },
   "file_extension": ".py",
   "mimetype": "text/x-python",
   "name": "python",
   "nbconvert_exporter": "python",
   "pygments_lexer": "ipython3",
   "version": "3.7.3"
  },
  "toc": {
   "base_numbering": 1,
   "nav_menu": {},
   "number_sections": true,
   "sideBar": true,
   "skip_h1_title": false,
   "title_cell": "Table of Contents",
   "title_sidebar": "Contents",
   "toc_cell": false,
   "toc_position": {},
   "toc_section_display": true,
   "toc_window_display": false
  }
 },
 "nbformat": 4,
 "nbformat_minor": 2
}
